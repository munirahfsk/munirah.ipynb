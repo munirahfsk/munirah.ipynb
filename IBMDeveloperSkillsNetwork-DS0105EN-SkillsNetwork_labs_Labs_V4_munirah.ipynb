{
  "metadata": {
    "language_info": {
      "codemirror_mode": {
        "name": "python",
        "version": 3
      },
      "file_extension": ".py",
      "mimetype": "text/x-python",
      "name": "python",
      "nbconvert_exporter": "python",
      "pygments_lexer": "ipython3",
      "version": "3.8"
    },
    "kernelspec": {
      "name": "python",
      "display_name": "Python (Pyodide)",
      "language": "python"
    }
  },
  "nbformat_minor": 4,
  "nbformat": 4,
  "cells": [
    {
      "cell_type": "markdown",
      "source": "# My First the notebook",
      "metadata": {}
    },
    {
      "cell_type": "markdown",
      "source": "## Introduction",
      "metadata": {}
    },
    {
      "cell_type": "markdown",
      "source": "list data science languages \n\n* Python\n* R\n* SQL\n* Java\n* Julia\n* Scala\n* C/C++\n* JavaScript",
      "metadata": {}
    },
    {
      "cell_type": "markdown",
      "source": "## Data Science Libraries\n\n* NumPy\n* Pandas\n* Matplotlib\n* Scikit-learn\n* TensorFlow\n* PyTorch",
      "metadata": {}
    },
    {
      "cell_type": "markdown",
      "source": "## Data Science Tools\n",
      "metadata": {}
    },
    {
      "cell_type": "markdown",
      "source": "## Data Science Tools\n| Tool | Type | Description |\n|---|---|---|\n| NumPy | Scientific computing library | NumPy is a Python library that provides a high-performance, multidimensional array object, and a collection of routines for working with such arrays. |\n| Pandas | Data manipulation and analysis library | Pandas is a Python library that provides data structures and data analysis tools for the Python programming language. |\n| Matplotlib | Data visualization library | Matplotlib is a Python library that provides an object-oriented API for embedding plots into applications. |\n| Scikit-learn | Machine learning library | Scikit-learn is a free, open-source machine learning library for the Python programming language. |\n| TensorFlow | Deep learning library | TensorFlow is an open-source software library for numerical computation using data flow graphs. It is used for machine learning and deep learning applications. |\n| PyTorch | Deep learning library | PyTorch is an open-source machine learning framework based on the Torch library. It is used for deep learning applications, such as computer vision and natural language processing. |\n",
      "metadata": {}
    },
    {
      "cell_type": "code",
      "source": "# Arithmetic Expression Examples\nprint(1 + 1)\nprint(2 - 1)\nprint(3 * 2)\nprint(6 / 2)\nprint(2 ** 3)\n",
      "metadata": {
        "trusted": true
      },
      "execution_count": 6,
      "outputs": [
        {
          "name": "stdout",
          "text": "2\n1\n6\n3.0\n8\n",
          "output_type": "stream"
        }
      ]
    },
    {
      "cell_type": "code",
      "source": "# Multiply and add numbers\nprint(5 * 5 + 4)",
      "metadata": {
        "trusted": true
      },
      "execution_count": 1,
      "outputs": [
        {
          "name": "stdout",
          "text": "29\n",
          "output_type": "stream"
        }
      ]
    },
    {
      "cell_type": "markdown",
      "source": "# Convert minutes to hours\nprint(6 / 6)\n",
      "metadata": {}
    },
    {
      "cell_type": "markdown",
      "source": "## Objectives\n\n* Learn how to use Markdown cells\n* Learn how to create code cells\n* Learn how to execute code cells",
      "metadata": {}
    },
    {
      "cell_type": "markdown",
      "source": "**Author:** [munirah]",
      "metadata": {}
    },
    {
      "cell_type": "code",
      "source": "",
      "metadata": {},
      "execution_count": null,
      "outputs": []
    }
  ]
}